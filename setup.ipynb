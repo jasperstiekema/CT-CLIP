{
 "cells": [
  {
   "cell_type": "code",
   "execution_count": 2,
   "id": "14f580b5",
   "metadata": {},
   "outputs": [
    {
     "data": {
      "text/plain": [
       "CompletedProcess(args=['c:\\\\Users\\\\20203686\\\\Documents\\\\GitHub\\\\CT-CLIP\\\\MASTER\\\\Scripts\\\\python.exe', '-m', 'venv', 'MASTER'], returncode=1)"
      ]
     },
     "execution_count": 2,
     "metadata": {},
     "output_type": "execute_result"
    }
   ],
   "source": [
    "import os\n",
    "import subprocess\n",
    "import sys\n",
    "\n",
    "env_name = \"MASTER\"\n",
    "python_version = \"3.10\"  # or your preferred version\n",
    "\n",
    "# Create the virtual environment\n",
    "subprocess.run([sys.executable, \"-m\", \"venv\", env_name])\n"
   ]
  },
  {
   "cell_type": "code",
   "execution_count": 3,
   "id": "ee19775f",
   "metadata": {},
   "outputs": [
    {
     "data": {
      "text/plain": [
       "CompletedProcess(args=['MASTER\\\\Scripts\\\\pip.exe', 'install', 'accelerate', 'beartype', 'einops>=0.6', 'ema-pytorch>=0.2.2', 'opencv-python', 'pillow', 'numpy', 'sentencepiece', 'torchtyping', 'torchvision', 'tqdm', 'vector-quantize-pytorch==1.1.2', 'nibabel', 'openpyxl'], returncode=0)"
      ]
     },
     "execution_count": 3,
     "metadata": {},
     "output_type": "execute_result"
    }
   ],
   "source": [
    "# Define the pip path in the new environment\n",
    "pip_path = os.path.join(env_name, \"bin\", \"pip\") if os.name != 'nt' else os.path.join(env_name, \"Scripts\", \"pip.exe\")\n",
    "\n",
    "# Packages to install\n",
    "packages = [\n",
    "    \"accelerate\",\n",
    "    \"beartype\",\n",
    "    \"einops>=0.6\",\n",
    "    \"ema-pytorch>=0.2.2\",\n",
    "    \"opencv-python\",\n",
    "    \"pillow\",\n",
    "    \"numpy\",\n",
    "    \"sentencepiece\",\n",
    "    \"torchtyping\",\n",
    "    \"torchvision\",\n",
    "    \"tqdm\",\n",
    "    \"vector-quantize-pytorch==1.1.2\",\n",
    "    \"nibabel\",\n",
    "    \"openpyxl\",\n",
    "    # optionally:\n",
    "    \"torch==2.0.1\",\n",
    "    \"transformers==4.30.1\",\n",
    "]\n",
    "\n",
    "# Install the packages\n",
    "subprocess.run([pip_path, \"install\", \"--upgrade\", \"pip\"])\n",
    "subprocess.run([pip_path, \"install\"] + packages)\n"
   ]
  },
  {
   "cell_type": "code",
   "execution_count": null,
   "id": "864fdbbb",
   "metadata": {},
   "outputs": [],
   "source": []
  }
 ],
 "metadata": {
  "kernelspec": {
   "display_name": "MASTER",
   "language": "python",
   "name": "python3"
  },
  "language_info": {
   "codemirror_mode": {
    "name": "ipython",
    "version": 3
   },
   "file_extension": ".py",
   "mimetype": "text/x-python",
   "name": "python",
   "nbconvert_exporter": "python",
   "pygments_lexer": "ipython3",
   "version": "3.10.10"
  }
 },
 "nbformat": 4,
 "nbformat_minor": 5
}
